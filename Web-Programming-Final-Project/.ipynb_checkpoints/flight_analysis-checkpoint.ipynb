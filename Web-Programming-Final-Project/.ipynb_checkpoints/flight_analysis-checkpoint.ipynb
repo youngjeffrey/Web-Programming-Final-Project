{
 "cells": [
  {
   "cell_type": "code",
   "execution_count": null,
   "metadata": {},
   "outputs": [],
   "source": [
    "import sqlite3\n",
    "import csv\n",
    "\n",
    "f=open('flightdata.csv','r') # open the csv data file\n",
    "next(f, None) # skip the header row\n",
    "reader = csv.reader(f)\n",
    "\n",
    "sql = sqlite3.connect('flights.db')\n",
    "cur = sql.cursor()\n",
    "\n",
    "cur.execute('''CREATE TABLE IF NOT EXISTS airdata\n",
    "            (month int, day int, sched_dep_time text, sched_arr_time text, carrier text, flight int, tailnum text, origin text, dest text, air_time int, distance int)''')\n",
    "\n",
    "for row in reader:\n",
    "    cur.execute(\"INSERT INTO airdata VALUES (?, ?, ?, ?, ?, ?, ?, ?, ?, ?, ?)\", row)    \n",
    "\n",
    "c1 = cur.execute(\"SELECT * FROM airdata WHERE carrier='AA' and origin='EWR'\")\n",
    "for row in c1:\n",
    "    print(row)\n",
    "\n",
    "f.close()\n",
    "sql.commit()\n",
    "sql.close()"
   ]
  },
  {
   "cell_type": "code",
   "execution_count": null,
   "metadata": {},
   "outputs": [],
   "source": []
  }
 ],
 "metadata": {
  "kernelspec": {
   "display_name": "Python 3",
   "language": "python",
   "name": "python3"
  },
  "language_info": {
   "codemirror_mode": {
    "name": "ipython",
    "version": 3
   },
   "file_extension": ".py",
   "mimetype": "text/x-python",
   "name": "python",
   "nbconvert_exporter": "python",
   "pygments_lexer": "ipython3",
   "version": "3.6.4"
  }
 },
 "nbformat": 4,
 "nbformat_minor": 2
}
